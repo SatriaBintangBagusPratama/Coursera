{
 "cells": [
  {
   "cell_type": "markdown",
   "id": "480a7bac-8b1e-4ca9-9159-31767c32d7c7",
   "metadata": {},
   "source": [
    "<center>\n",
    "    <img src=\"https://cf-courses-data.s3.us.cloud-object-storage.appdomain.cloud/IBMDeveloperSkillsNetwork-DS0105EN-SkillsNetwork/labs/Module2/images/SN_web_lightmode.png\" width=\"300\" alt=\"cognitiveclass.ai logo\">\n",
    "</center>"
   ]
  },
  {
   "cell_type": "markdown",
   "id": "13ec8925-25eb-467f-a0a6-a25aecc26c37",
   "metadata": {},
   "source": [
    "# Data Science Tools and Ecosystem"
   ]
  },
  {
   "cell_type": "markdown",
   "id": "4217d951-70f6-4da2-99ae-59e16dc933b6",
   "metadata": {},
   "source": [
    "In this notebook, Data Science Tools and Ecosystem are summarized."
   ]
  },
  {
   "cell_type": "markdown",
   "id": "8e9339e7-fa58-4018-8a25-32dbdf191772",
   "metadata": {},
   "source": [
    "**Objectives:**\n",
    "- Arithmetic expressions in Python\n",
    "- Convert units using Python\n",
    "- Create a Jupyter Notebook"
   ]
  },
  {
   "cell_type": "markdown",
   "id": "2415615e-c630-46aa-9be6-e73b7f72ba20",
   "metadata": {},
   "source": [
    "Some of the popular languages that Data Scientists use are:\n",
    "1. Java\n",
    "2. Julia\n",
    "3. Python"
   ]
  },
  {
   "cell_type": "markdown",
   "id": "5d4e2393-201c-4a8b-9490-e74ffd8cee12",
   "metadata": {},
   "source": [
    "Some of the commonly used libraries used by Data Scientists include:\n",
    "1. Matplotlib\n",
    "2. NLTK\n",
    "3. NumPy"
   ]
  },
  {
   "cell_type": "markdown",
   "id": "99194a10-c315-4c13-9764-acd2ee97ffb7",
   "metadata": {},
   "source": [
    "| Data Science Tools      |\n",
    "|-------------------------|\n",
    "| Apache Zeppelin         |\n",
    "| Jupyter Notebook        |\n",
    "| RStudio                 |\n"
   ]
  },
  {
   "cell_type": "markdown",
   "id": "c55d2b13-0df5-4e71-9475-d290417bae19",
   "metadata": {},
   "source": [
    "### Below are a few examples of evaluating arithmetic expressions in Python"
   ]
  },
  {
   "cell_type": "code",
   "execution_count": 5,
   "id": "0cd990f8-d26a-4d3b-b56d-b24bbb338457",
   "metadata": {},
   "outputs": [
    {
     "data": {
      "text/plain": [
       "17"
      ]
     },
     "execution_count": 5,
     "metadata": {},
     "output_type": "execute_result"
    }
   ],
   "source": [
    "#This a simple arithmetic expression to multiply then add integers\n",
    "(3*4)+5"
   ]
  },
  {
   "cell_type": "code",
   "execution_count": 6,
   "id": "4e0c5f30-cb30-4ee0-a330-d6547e4fd3a7",
   "metadata": {},
   "outputs": [
    {
     "data": {
      "text/plain": [
       "3.3333333333333335"
      ]
     },
     "execution_count": 6,
     "metadata": {},
     "output_type": "execute_result"
    }
   ],
   "source": [
    "#This will convert 200 minutes to hours by diving by 60\n",
    "200/60"
   ]
  },
  {
   "cell_type": "markdown",
   "id": "13aad954-e685-46fa-92cb-e5b2ab2af7fd",
   "metadata": {},
   "source": [
    "## Author\n",
    "Satria Bintang Bagus Pratama"
   ]
  }
 ],
 "metadata": {
  "kernelspec": {
   "display_name": "Python 3 (ipykernel)",
   "language": "python",
   "name": "python3"
  },
  "language_info": {
   "codemirror_mode": {
    "name": "ipython",
    "version": 3
   },
   "file_extension": ".py",
   "mimetype": "text/x-python",
   "name": "python",
   "nbconvert_exporter": "python",
   "pygments_lexer": "ipython3",
   "version": "3.11.9"
  }
 },
 "nbformat": 4,
 "nbformat_minor": 5
}
